{
 "cells": [
  {
   "cell_type": "markdown",
   "id": "35948494",
   "metadata": {},
   "source": [
    "(assignment07)=\n",
    "\n",
    "# Assignment #7 (demo). Unsupervised learning\n",
    "\n",
    "<img src=\"https://habrastorage.org/webt/ia/m9/zk/iam9zkyzqebnf_okxipihkgjwnw.jpeg\" />\n",
    "\n",
    "**<center>[mlcourse.ai](https://mlcourse.ai) – Open Machine Learning Course** </center><br>\n",
    "\n",
    "Authors: [Olga Daykhovskaya](https://www.linkedin.com/in/odaykhovskaya/), [Yury Kashnitsky](https://yorko.github.io). This material is subject to the terms and conditions of the [Creative Commons CC BY-NC-SA 4.0](https://creativecommons.org/licenses/by-nc-sa/4.0/) license. Free use is permitted for any non-commercial purpose.\n",
    "\n",
    "**Same assignment as a [Kaggle Notebook](https://www.kaggle.com/kashnitsky/a7-demo-unsupervised-learning) + [solution](https://www.kaggle.com/kashnitsky/a7-demo-unsupervised-learning-solution).**\n",
    "\n",
    "In this task, we will look at how data dimensionality reduction and clustering methods work. At the same time, we'll practice solving classification task again.\n",
    "\n",
    "We will work with the [Samsung Human Activity Recognition](https://archive.ics.uci.edu/ml/datasets/Human+Activity+Recognition+Using+Smartphones) dataset. The data comes from accelerometers and gyros of Samsung Galaxy S3 mobile phones ( you can find more info about the features using the link above), the type of activity of a person with a phone in his/her pocket is also known – whether he/she walked, stood, lay, sat or walked up or down the stairs.\n",
    "\n",
    "First, we pretend that the type of activity is unknown to us, and we will try to cluster people purely on the basis of available features. Then we solve the problem of determining the type of physical activity as a classification problem.\n",
    "\n",
    "Fill the code where needed (\"Your code is here\") and answer the questions in the [web form](https://docs.google.com/forms/d/1wBf5UoRndv6PpzIwYnM9f0ysoGa4Yqcqle-HBlBP5QQ/edit)."
   ]
  },
  {
   "cell_type": "code",
   "execution_count": 33,
   "id": "b2d50768",
   "metadata": {},
   "outputs": [],
   "source": [
    "import os\n",
    "from zipfile import ZipFile\n",
    "from pathlib import Path\n",
    "import requests\n",
    "\n",
    "import numpy as np\n",
    "import pandas as pd\n",
    "import seaborn as sns\n",
    "from tqdm import tqdm_notebook\n",
    "\n",
    "%matplotlib inline\n",
    "from matplotlib import pyplot as plt\n",
    "\n",
    "plt.style.use([\"seaborn-darkgrid\"])\n",
    "plt.rcParams[\"figure.figsize\"] = (12, 9)\n",
    "plt.rcParams[\"font.family\"] = \"DejaVu Sans\"\n",
    "\n",
    "from sklearn import metrics\n",
    "from sklearn.cluster import AgglomerativeClustering, KMeans, SpectralClustering\n",
    "from sklearn.decomposition import PCA\n",
    "from sklearn.model_selection import GridSearchCV\n",
    "from sklearn.preprocessing import StandardScaler\n",
    "from sklearn.svm import LinearSVC\n",
    "\n",
    "RANDOM_STATE = 17"
   ]
  },
  {
   "cell_type": "code",
   "execution_count": 34,
   "id": "644b8003",
   "metadata": {},
   "outputs": [],
   "source": [
    "def load_har_dataset(url, extract_path: Path, filename: str, overwrite=False):\n",
    "    # check if existed already\n",
    "    filepath = extract_path / filename\n",
    "    if filepath.exists() and not overwrite:\n",
    "        print(\"The dataset is already in place.\")\n",
    "        return\n",
    "\n",
    "    print(\"Downloading the dataset from:  \", url)\n",
    "    response = requests.get(url)\n",
    "\n",
    "    with open(filepath, 'wb') as f:\n",
    "        f.write(response.content)\n",
    "\n",
    "    with ZipFile(filepath, 'r') as zipObj:\n",
    "        # Extract all the contents of zip file in current directory\n",
    "        zipObj.extractall(extract_path)"
   ]
  },
  {
   "cell_type": "code",
   "execution_count": 35,
   "id": "80597b60",
   "metadata": {},
   "outputs": [],
   "source": [
    "X_train = np.loadtxt(\"HAR_Dataset/train/X_train.txt\")\n",
    "y_train = np.loadtxt(\"HAR_Dataset/train/y_train.txt\").astype(int)\n",
    "\n",
    "X_test = np.loadtxt(\"HAR_Dataset/test/X_test.txt\")\n",
    "y_test = np.loadtxt(\"HAR_Dataset/test/y_test.txt\").astype(int)"
   ]
  },
  {
   "cell_type": "code",
   "execution_count": 36,
   "id": "1c35d5c2",
   "metadata": {},
   "outputs": [],
   "source": [
    "# Checking dimensions\n",
    "assert X_train.shape == (7352, 561) and y_train.shape == (7352,)\n",
    "assert X_test.shape == (2947, 561) and y_test.shape == (2947,)"
   ]
  },
  {
   "cell_type": "markdown",
   "id": "e498154b",
   "metadata": {},
   "source": [
    "For clustering, we do not need a target vector, so we'll work with the combination of training and test samples. Merge `X_train` with `X_test`, and `y_train` with `y_test`."
   ]
  },
  {
   "cell_type": "code",
   "execution_count": 37,
   "id": "7b5bc2e0",
   "metadata": {},
   "outputs": [],
   "source": [
    "X = np.vstack([X_train, X_test])\n",
    "y = np.hstack([y_train, y_test])"
   ]
  },
  {
   "cell_type": "markdown",
   "id": "f479a1a1",
   "metadata": {},
   "source": [
    "Define the number of unique values of the labels of the target class."
   ]
  },
  {
   "cell_type": "code",
   "execution_count": 38,
   "id": "f2893ed3",
   "metadata": {},
   "outputs": [
    {
     "data": {
      "text/plain": [
       "array([1, 2, 3, 4, 5, 6])"
      ]
     },
     "execution_count": 38,
     "metadata": {},
     "output_type": "execute_result"
    }
   ],
   "source": [
    "np.unique(y)"
   ]
  },
  {
   "cell_type": "code",
   "execution_count": 39,
   "id": "0e19d330",
   "metadata": {},
   "outputs": [],
   "source": [
    "n_classes = np.unique(y).size"
   ]
  },
  {
   "cell_type": "markdown",
   "id": "5bc666e9",
   "metadata": {},
   "source": [
    "[These labels correspond to:](https://archive.ics.uci.edu/ml/machine-learning-databases/00240/UCI%20HAR%20Dataset.names)\n",
    "- 1 – walking\n",
    "- 2 – walking upstairs\n",
    "- 3 – walking downstairs\n",
    "- 4 – sitting\n",
    "- 5 – standing\n",
    "- 6 – laying down\n",
    "\n",
    "Scale the sample using `StandardScaler` with default parameters."
   ]
  },
  {
   "cell_type": "code",
   "execution_count": 40,
   "id": "08b9a2bf",
   "metadata": {},
   "outputs": [],
   "source": [
    "from sklearn.preprocessing import StandardScaler\n",
    "\n",
    "scal = StandardScaler()\n",
    "X_scaled = scal.fit_transform(X)"
   ]
  },
  {
   "cell_type": "markdown",
   "id": "31b03147",
   "metadata": {},
   "source": [
    "Reduce the number of dimensions using PCA, leaving as many components as necessary to explain at least 90% of the variance of the original (scaled) data. Use the scaled dataset and fix `random_state` (RANDOM_STATE constant)."
   ]
  },
  {
   "cell_type": "code",
   "execution_count": 41,
   "id": "5fca48ae",
   "metadata": {},
   "outputs": [],
   "source": [
    "pca = PCA(n_components=0.9, random_state=RANDOM_STATE).fit(X_scaled)\n",
    "X_pca = pca.transform(X_scaled)"
   ]
  },
  {
   "cell_type": "code",
   "execution_count": 42,
   "id": "0ea14a0f",
   "metadata": {},
   "outputs": [
    {
     "data": {
      "text/plain": [
       "10299"
      ]
     },
     "execution_count": 42,
     "metadata": {},
     "output_type": "execute_result"
    }
   ],
   "source": [
    "len(X_pca)"
   ]
  },
  {
   "cell_type": "markdown",
   "id": "44a9982b",
   "metadata": {},
   "source": [
    "**Question 1:** <br>\n",
    "What is the minimum number of principal components required to cover the 90% of the variance of the original (scaled) data?"
   ]
  },
  {
   "cell_type": "code",
   "execution_count": 43,
   "id": "572265f1",
   "metadata": {},
   "outputs": [
    {
     "data": {
      "text/plain": [
       "(10299, 65)"
      ]
     },
     "execution_count": 43,
     "metadata": {},
     "output_type": "execute_result"
    }
   ],
   "source": [
    "X_pca.shape"
   ]
  },
  {
   "cell_type": "markdown",
   "id": "ec434bff",
   "metadata": {},
   "source": [
    "**Answer options:**\n",
    "- 56\n",
    "- **65**\n",
    "- 66\n",
    "- 193\n",
    "\n",
    "**Вопрос 2:**<br>\n",
    "What percentage of the variance is covered by the first principal component? Round to the nearest percent.\n",
    "\n",
    "**Answer options:**\n",
    "- 45\n",
    "- **51**\n",
    "- 56\n",
    "- 61"
   ]
  },
  {
   "cell_type": "code",
   "execution_count": 44,
   "id": "226987e5",
   "metadata": {},
   "outputs": [
    {
     "data": {
      "text/plain": [
       "50.73822103501334"
      ]
     },
     "execution_count": 44,
     "metadata": {},
     "output_type": "execute_result"
    }
   ],
   "source": [
    "(pca.explained_variance_ratio_[0] * 100)"
   ]
  },
  {
   "cell_type": "markdown",
   "id": "a0753584",
   "metadata": {},
   "source": [
    "Visualize data in projection on the first two principal components."
   ]
  },
  {
   "cell_type": "code",
   "execution_count": 45,
   "id": "b01dad0e",
   "metadata": {},
   "outputs": [
    {
     "data": {
      "text/plain": [
       "<matplotlib.collections.PathCollection at 0x7fbc0ce687c0>"
      ]
     },
     "execution_count": 45,
     "metadata": {},
     "output_type": "execute_result"
    },
    {
     "data": {
      "image/png": "[encoded data removed]",
      "text/plain": [
       "<Figure size 864x648 with 1 Axes>"
      ]
     },
     "metadata": {},
     "output_type": "display_data"
    }
   ],
   "source": [
    "plt.scatter(X_pca[:, 0], X_pca[:, 1], c=y, s=20, cmap='viridis')"
   ]
  },
  {
   "cell_type": "markdown",
   "id": "bf2afaf3",
   "metadata": {},
   "source": [
    "**Question 3:**<br>\n",
    "If everything worked out correctly, you will see a number of clusters, almost perfectly separated from each other. What types of activity are included in these clusters? <br>\n",
    "\n",
    "**Answer options:**\n",
    "- 1 cluster: all 6 activities\n",
    "- 2 clusters: (walking, walking upstairs, walking downstairs ) and (sitting, standing, laying)\n",
    "- 3 clusters: (walking), (walking upstairs, walking downstairs) and (sitting, standing, laying)\n",
    "- 6 clusters\n",
    "\n",
    "------------------------------\n",
    "\n",
    "Perform clustering with the `KMeans` method, training the model on data with reduced dimensionality (by PCA). In this case, we will give a clue to look for exactly 6 clusters, but in general case we will not know how many clusters we should be looking for.\n",
    "\n",
    "Options:\n",
    "\n",
    "- `n_clusters` = n_classes (number of unique labels of the target class)\n",
    "- `n_init` = 100\n",
    "- `random_state` = RANDOM_STATE (for reproducibility of the result)\n",
    "\n",
    "Other parameters should have default values."
   ]
  },
  {
   "cell_type": "code",
   "execution_count": 46,
   "id": "914871ba",
   "metadata": {},
   "outputs": [],
   "source": [
    "KNN = KMeans(n_clusters=6, n_init=100, random_state=RANDOM_STATE)\n",
    "KNN.fit(X_pca)\n",
    "labels = KNN.labels_"
   ]
  },
  {
   "cell_type": "markdown",
   "id": "fd48d238",
   "metadata": {},
   "source": [
    "Visualize data in projection on the first two principal components. Color the dots according to the clusters obtained."
   ]
  },
  {
   "cell_type": "code",
   "execution_count": 47,
   "id": "e45a2a74",
   "metadata": {},
   "outputs": [
    {
     "data": {
      "image/png": "[encoded data removed]",
      "text/plain": [
       "<Figure size 864x648 with 1 Axes>"
      ]
     },
     "metadata": {},
     "output_type": "display_data"
    }
   ],
   "source": [
    "plt.scatter(X_pca[:, 0], X_pca[:, 1] , c=labels, s=20, cmap='viridis');"
   ]
  },
  {
   "cell_type": "markdown",
   "id": "d547b7e4",
   "metadata": {},
   "source": [
    "Look at the correspondence between the cluster marks and the original class labels and what kinds of activities the `KMeans` algorithm is confused at."
   ]
  },
  {
   "cell_type": "code",
   "execution_count": 48,
   "id": "1722170b",
   "metadata": {},
   "outputs": [
    {
     "data": {
      "text/html": [
       "<div>\n",
       "<style scoped>\n",
       "    .dataframe tbody tr th:only-of-type {\n",
       "        vertical-align: middle;\n",
       "    }\n",
       "\n",
       "    .dataframe tbody tr th {\n",
       "        vertical-align: top;\n",
       "    }\n",
       "\n",
       "    .dataframe thead th {\n",
       "        text-align: right;\n",
       "    }\n",
       "</style>\n",
       "<table border=\"1\" class=\"dataframe\">\n",
       "  <thead>\n",
       "    <tr style=\"text-align: right;\">\n",
       "      <th></th>\n",
       "      <th>cluster1</th>\n",
       "      <th>cluster2</th>\n",
       "      <th>cluster3</th>\n",
       "      <th>cluster4</th>\n",
       "      <th>cluster5</th>\n",
       "      <th>cluster6</th>\n",
       "      <th>all</th>\n",
       "    </tr>\n",
       "  </thead>\n",
       "  <tbody>\n",
       "    <tr>\n",
       "      <th>walking</th>\n",
       "      <td>903</td>\n",
       "      <td>0</td>\n",
       "      <td>0</td>\n",
       "      <td>78</td>\n",
       "      <td>741</td>\n",
       "      <td>0</td>\n",
       "      <td>1722</td>\n",
       "    </tr>\n",
       "    <tr>\n",
       "      <th>going up the stairs</th>\n",
       "      <td>1241</td>\n",
       "      <td>0</td>\n",
       "      <td>0</td>\n",
       "      <td>5</td>\n",
       "      <td>296</td>\n",
       "      <td>2</td>\n",
       "      <td>1544</td>\n",
       "    </tr>\n",
       "    <tr>\n",
       "      <th>going down the stairs</th>\n",
       "      <td>320</td>\n",
       "      <td>0</td>\n",
       "      <td>0</td>\n",
       "      <td>196</td>\n",
       "      <td>890</td>\n",
       "      <td>0</td>\n",
       "      <td>1406</td>\n",
       "    </tr>\n",
       "    <tr>\n",
       "      <th>sitting</th>\n",
       "      <td>1</td>\n",
       "      <td>1235</td>\n",
       "      <td>91</td>\n",
       "      <td>0</td>\n",
       "      <td>0</td>\n",
       "      <td>450</td>\n",
       "      <td>1777</td>\n",
       "    </tr>\n",
       "    <tr>\n",
       "      <th>standing</th>\n",
       "      <td>0</td>\n",
       "      <td>1344</td>\n",
       "      <td>0</td>\n",
       "      <td>0</td>\n",
       "      <td>0</td>\n",
       "      <td>562</td>\n",
       "      <td>1906</td>\n",
       "    </tr>\n",
       "    <tr>\n",
       "      <th>laying</th>\n",
       "      <td>5</td>\n",
       "      <td>52</td>\n",
       "      <td>1558</td>\n",
       "      <td>0</td>\n",
       "      <td>0</td>\n",
       "      <td>329</td>\n",
       "      <td>1944</td>\n",
       "    </tr>\n",
       "    <tr>\n",
       "      <th>all</th>\n",
       "      <td>2470</td>\n",
       "      <td>2631</td>\n",
       "      <td>1649</td>\n",
       "      <td>279</td>\n",
       "      <td>1927</td>\n",
       "      <td>1343</td>\n",
       "      <td>10299</td>\n",
       "    </tr>\n",
       "  </tbody>\n",
       "</table>\n",
       "</div>"
      ],
      "text/plain": [
       "                       cluster1  cluster2  cluster3  cluster4  cluster5  \\\n",
       "walking                     903         0         0        78       741   \n",
       "going up the stairs        1241         0         0         5       296   \n",
       "going down the stairs       320         0         0       196       890   \n",
       "sitting                       1      1235        91         0         0   \n",
       "standing                      0      1344         0         0         0   \n",
       "laying                        5        52      1558         0         0   \n",
       "all                        2470      2631      1649       279      1927   \n",
       "\n",
       "                       cluster6    all  \n",
       "walking                       0   1722  \n",
       "going up the stairs           2   1544  \n",
       "going down the stairs         0   1406  \n",
       "sitting                     450   1777  \n",
       "standing                    562   1906  \n",
       "laying                      329   1944  \n",
       "all                        1343  10299  "
      ]
     },
     "execution_count": 48,
     "metadata": {},
     "output_type": "execute_result"
    }
   ],
   "source": [
    "tab = pd.crosstab(y, labels, margins=True)\n",
    "tab.index = ['walking', 'going up the stairs',\n",
    "            'going down the stairs', 'sitting', 'standing', 'laying', 'all']\n",
    "tab.columns = ['cluster' + str(i + 1) for i in range(6)] + ['all']\n",
    "tab"
   ]
  },
  {
   "cell_type": "markdown",
   "id": "135b381e",
   "metadata": {},
   "source": [
    "We see that for each class (i.e., each activity) there are several clusters. Let's look at the maximum percentage of objects in a class that are assigned to a single cluster. This will be a simple metric that characterizes how easily the class is separated from others when clustering.\n",
    "\n",
    "Example: if for class \"walking downstairs\" (with 1406 instances belonging to it), the distribution of clusters is:\n",
    " - cluster 1 - 900\n",
    " - cluster 3 - 500\n",
    " - cluster 6 - 6,\n",
    "\n",
    "then such a share will be 900/1406 $ \\approx $ 0.64.\n",
    "\n",
    "\n",
    "**Question 4:** <br>\n",
    "Which activity is separated from the rest better than others based on the simple metric described above? <br>\n",
    "\n",
    "**Answer options:**\n",
    "- walking\n",
    "- standing\n",
    "- walking downstairs\n",
    "- all three options are incorrect\n",
    "\n",
    "It can be seen that kMeans does not distinguish activities very well. Use the elbow method to select the optimal number of clusters. Parameters of the algorithm and the data we use are the same as before, we change only `n_clusters`."
   ]
  },
  {
   "cell_type": "code",
   "execution_count": 49,
   "id": "0165daeb",
   "metadata": {},
   "outputs": [
    {
     "name": "stderr",
     "output_type": "stream",
     "text": [
      "/var/folders/z7/_y1pm10j1pdd5t_mtsld6ds00000gn/T/ipykernel_90243/532943545.py:2: TqdmDeprecationWarning: This function will be removed in tqdm==5.0.0\n",
      "Please use `tqdm.notebook.tqdm` instead of `tqdm.tqdm_notebook`\n",
      "  for k in tqdm_notebook(range(1, n_classes + 1)):\n"
     ]
    },
    {
     "data": {
      "application/vnd.jupyter.widget-view+json": {
       "model_id": "aa1801942039438485f0bcd9ea85338e",
       "version_major": 2,
       "version_minor": 0
      },
      "text/plain": [
       "  0%|          | 0/6 [00:00<?, ?it/s]"
      ]
     },
     "metadata": {},
     "output_type": "display_data"
    }
   ],
   "source": [
    "inertia = []\n",
    "for k in tqdm_notebook(range(1, n_classes + 1)):\n",
    "    model = KMeans(n_clusters=k, n_init=100, random_state=RANDOM_STATE)\n",
    "    model.fit(X_pca)\n",
    "    inertia.append(np.sqrt(model.inertia_))\n",
    "    "
   ]
  },
  {
   "cell_type": "code",
   "execution_count": 50,
   "id": "285c2b95",
   "metadata": {},
   "outputs": [
    {
     "data": {
      "text/plain": [
       "<AxesSubplot:>"
      ]
     },
     "execution_count": 50,
     "metadata": {},
     "output_type": "execute_result"
    },
    {
     "data": {
      "image/png": "[encoded data removed]",
      "text/plain": [
       "<Figure size 864x648 with 1 Axes>"
      ]
     },
     "metadata": {},
     "output_type": "display_data"
    }
   ],
   "source": [
    "sns.lineplot(y=inertia, x=list(range(len(inertia))))"
   ]
  },
  {
   "cell_type": "markdown",
   "id": "95f899cc",
   "metadata": {},
   "source": [
    "**Question 5:** <br>\n",
    "How many clusters can we choose according to the elbow method? <br>\n",
    "\n",
    "**Answer options:**\n",
    "- 1\n",
    "- **2**\n",
    "- 3\n",
    "- 4\n",
    "\n",
    "------------------------\n",
    "\n",
    "Let's try another clustering algorithm, described in the article – agglomerative clustering."
   ]
  },
  {
   "cell_type": "code",
   "execution_count": 51,
   "id": "6dfcbc90",
   "metadata": {},
   "outputs": [],
   "source": [
    "ag = AgglomerativeClustering(n_clusters=n_classes, linkage='ward').fit(X_pca)"
   ]
  },
  {
   "cell_type": "markdown",
   "id": "c3d85f2f",
   "metadata": {},
   "source": [
    "Calculate the Adjusted Rand Index (`sklearn.metrics`) for the resulting clustering and for ` KMeans` with the parameters from the 4th question."
   ]
  },
  {
   "cell_type": "code",
   "execution_count": 52,
   "id": "c05a0905",
   "metadata": {},
   "outputs": [
    {
     "name": "stdout",
     "output_type": "stream",
     "text": [
      "KMeans: ARI = 0.4198070012602345\n",
      "Agglomerative CLustering: ARI = 0.49362763373004886\n"
     ]
    }
   ],
   "source": [
    "from sklearn.metrics import adjusted_rand_score\n",
    "print(\"KMeans: ARI =\", metrics.adjusted_rand_score(y, labels))\n",
    "print(\"Agglomerative CLustering: ARI =\", metrics.adjusted_rand_score(y, ag.labels_))"
   ]
  },
  {
   "cell_type": "markdown",
   "id": "ed314d74",
   "metadata": {},
   "source": [
    "**Question 6:** \n",
    "\n",
    "** Answer options: **\n",
    "\n",
    "\n",
    "- According to ARI, KMeans handled clustering worse than Agglomerative Clustering +\n",
    "- For ARI, it does not matter which tags are assigned to the cluster, only the partitioning of instances into clusters matters +\n",
    "- In case of random partitioning into clusters, ARI will be close to zero +\n",
    "\n",
    "-------------------------------\n",
    "\n",
    "You can notice that the task is not very well solved when we try to detect several clusters (> 2). Now, let's solve the classification problem, given that the data is labeled.\n",
    "\n",
    "For classification, use the support vector machine – class `sklearn.svm.LinearSVC`. In this course, we didn't study this algorithm separately, but it is well-known and you can read about it, for example [here](http://cs231n.github.io/linear-classify/#svmvssoftmax).\n",
    "\n",
    "Choose the `C` hyperparameter for` LinearSVC` using `GridSearchCV`.\n",
    "\n",
    "- Train the new `StandardScaler` on the training set (with all original features), apply scaling to the test set\n",
    "- In `GridSearchCV`, specify `cv` = 3."
   ]
  },
  {
   "cell_type": "code",
   "execution_count": 59,
   "id": "779cb64e",
   "metadata": {},
   "outputs": [],
   "source": [
    "scaler = StandardScaler()\n",
    "X_train_scaled = scaler.fit_transform(X_train)\n",
    "X_test_scaled = scaler.transform(X_test)"
   ]
  },
  {
   "cell_type": "code",
   "execution_count": 54,
   "id": "92a782b5",
   "metadata": {},
   "outputs": [],
   "source": [
    "svc = LinearSVC(random_state=RANDOM_STATE)\n",
    "svc_params = {\"C\": [0.001, 0.01, 0.1, 1, 10]}"
   ]
  },
  {
   "cell_type": "code",
   "execution_count": 55,
   "id": "99bee5bf",
   "metadata": {},
   "outputs": [
    {
     "name": "stdout",
     "output_type": "stream",
     "text": [
      "Fitting 3 folds for each of 5 candidates, totalling 15 fits\n"
     ]
    },
    {
     "name": "stderr",
     "output_type": "stream",
     "text": [
      "/opt/anaconda3/lib/python3.9/site-packages/sklearn/svm/_base.py:985: ConvergenceWarning: Liblinear failed to converge, increase the number of iterations.\n",
      "  warnings.warn(\"Liblinear failed to converge, increase \"\n",
      "/opt/anaconda3/lib/python3.9/site-packages/sklearn/svm/_base.py:985: ConvergenceWarning: Liblinear failed to converge, increase the number of iterations.\n",
      "  warnings.warn(\"Liblinear failed to converge, increase \"\n",
      "/opt/anaconda3/lib/python3.9/site-packages/sklearn/svm/_base.py:985: ConvergenceWarning: Liblinear failed to converge, increase the number of iterations.\n",
      "  warnings.warn(\"Liblinear failed to converge, increase \"\n",
      "/opt/anaconda3/lib/python3.9/site-packages/sklearn/svm/_base.py:985: ConvergenceWarning: Liblinear failed to converge, increase the number of iterations.\n",
      "  warnings.warn(\"Liblinear failed to converge, increase \"\n",
      "/opt/anaconda3/lib/python3.9/site-packages/sklearn/svm/_base.py:985: ConvergenceWarning: Liblinear failed to converge, increase the number of iterations.\n",
      "  warnings.warn(\"Liblinear failed to converge, increase \"\n",
      "/opt/anaconda3/lib/python3.9/site-packages/sklearn/svm/_base.py:985: ConvergenceWarning: Liblinear failed to converge, increase the number of iterations.\n",
      "  warnings.warn(\"Liblinear failed to converge, increase \"\n",
      "/opt/anaconda3/lib/python3.9/site-packages/sklearn/svm/_base.py:985: ConvergenceWarning: Liblinear failed to converge, increase the number of iterations.\n",
      "  warnings.warn(\"Liblinear failed to converge, increase \"\n",
      "/opt/anaconda3/lib/python3.9/site-packages/sklearn/svm/_base.py:985: ConvergenceWarning: Liblinear failed to converge, increase the number of iterations.\n",
      "  warnings.warn(\"Liblinear failed to converge, increase \"\n",
      "/opt/anaconda3/lib/python3.9/site-packages/sklearn/svm/_base.py:985: ConvergenceWarning: Liblinear failed to converge, increase the number of iterations.\n",
      "  warnings.warn(\"Liblinear failed to converge, increase \"\n"
     ]
    },
    {
     "name": "stdout",
     "output_type": "stream",
     "text": [
      "CPU times: user 4.95 s, sys: 205 ms, total: 5.15 s\n",
      "Wall time: 36.4 s\n"
     ]
    },
    {
     "name": "stderr",
     "output_type": "stream",
     "text": [
      "/opt/anaconda3/lib/python3.9/site-packages/sklearn/svm/_base.py:985: ConvergenceWarning: Liblinear failed to converge, increase the number of iterations.\n",
      "  warnings.warn(\"Liblinear failed to converge, increase \"\n"
     ]
    },
    {
     "data": {
      "text/plain": [
       "GridSearchCV(cv=3, estimator=LinearSVC(random_state=17), n_jobs=4,\n",
       "             param_grid={'C': [0.001, 0.01, 0.1, 1, 10]}, verbose=1)"
      ]
     },
     "execution_count": 55,
     "metadata": {},
     "output_type": "execute_result"
    }
   ],
   "source": [
    "%%time\n",
    "best_svc = GridSearchCV(svc, svc_params, n_jobs=4, cv=3, verbose=1)\n",
    "best_svc.fit(X_train_scaled, y_train)"
   ]
  },
  {
   "cell_type": "code",
   "execution_count": 56,
   "id": "c5f3b43a",
   "metadata": {},
   "outputs": [
    {
     "data": {
      "text/plain": [
       "({'C': 0.1}, 0.9382506099134881)"
      ]
     },
     "execution_count": 56,
     "metadata": {},
     "output_type": "execute_result"
    }
   ],
   "source": [
    "best_svc.best_params_, best_svc.best_score_"
   ]
  },
  {
   "cell_type": "markdown",
   "id": "5beeb3fc",
   "metadata": {},
   "source": [
    "**Question 7**<br>\n",
    "Which value of the hyperparameter `C` was chosen the best on the basis of cross-validation? <br>\n",
    "\n",
    "**Answer options:**\n",
    "- 0.001\n",
    "- 0.01\n",
    "- 0.1 +\n",
    "- 1\n",
    "- 10"
   ]
  },
  {
   "cell_type": "code",
   "execution_count": 60,
   "id": "38c6bd5c",
   "metadata": {},
   "outputs": [],
   "source": [
    "y_predicted = best_svc.predict(X_test_scaled)"
   ]
  },
  {
   "cell_type": "code",
   "execution_count": 61,
   "id": "73f9ab7a",
   "metadata": {},
   "outputs": [
    {
     "data": {
      "text/html": [
       "<div>\n",
       "<style scoped>\n",
       "    .dataframe tbody tr th:only-of-type {\n",
       "        vertical-align: middle;\n",
       "    }\n",
       "\n",
       "    .dataframe tbody tr th {\n",
       "        vertical-align: top;\n",
       "    }\n",
       "\n",
       "    .dataframe thead th {\n",
       "        text-align: right;\n",
       "    }\n",
       "</style>\n",
       "<table border=\"1\" class=\"dataframe\">\n",
       "  <thead>\n",
       "    <tr style=\"text-align: right;\">\n",
       "      <th></th>\n",
       "      <th>walking</th>\n",
       "      <th>climbing up the stairs</th>\n",
       "      <th>going down the stairs</th>\n",
       "      <th>sitting</th>\n",
       "      <th>standing</th>\n",
       "      <th>laying</th>\n",
       "      <th>all</th>\n",
       "    </tr>\n",
       "  </thead>\n",
       "  <tbody>\n",
       "    <tr>\n",
       "      <th>walking</th>\n",
       "      <td>494</td>\n",
       "      <td>2</td>\n",
       "      <td>0</td>\n",
       "      <td>0</td>\n",
       "      <td>0</td>\n",
       "      <td>0</td>\n",
       "      <td>496</td>\n",
       "    </tr>\n",
       "    <tr>\n",
       "      <th>climbing up the stairs</th>\n",
       "      <td>12</td>\n",
       "      <td>459</td>\n",
       "      <td>0</td>\n",
       "      <td>0</td>\n",
       "      <td>0</td>\n",
       "      <td>0</td>\n",
       "      <td>471</td>\n",
       "    </tr>\n",
       "    <tr>\n",
       "      <th>going down the stairs</th>\n",
       "      <td>2</td>\n",
       "      <td>3</td>\n",
       "      <td>414</td>\n",
       "      <td>1</td>\n",
       "      <td>0</td>\n",
       "      <td>0</td>\n",
       "      <td>420</td>\n",
       "    </tr>\n",
       "    <tr>\n",
       "      <th>sitting</th>\n",
       "      <td>0</td>\n",
       "      <td>4</td>\n",
       "      <td>0</td>\n",
       "      <td>426</td>\n",
       "      <td>61</td>\n",
       "      <td>0</td>\n",
       "      <td>491</td>\n",
       "    </tr>\n",
       "    <tr>\n",
       "      <th>standing</th>\n",
       "      <td>0</td>\n",
       "      <td>0</td>\n",
       "      <td>0</td>\n",
       "      <td>15</td>\n",
       "      <td>517</td>\n",
       "      <td>0</td>\n",
       "      <td>532</td>\n",
       "    </tr>\n",
       "    <tr>\n",
       "      <th>laying</th>\n",
       "      <td>0</td>\n",
       "      <td>0</td>\n",
       "      <td>0</td>\n",
       "      <td>0</td>\n",
       "      <td>11</td>\n",
       "      <td>526</td>\n",
       "      <td>537</td>\n",
       "    </tr>\n",
       "    <tr>\n",
       "      <th>all</th>\n",
       "      <td>508</td>\n",
       "      <td>468</td>\n",
       "      <td>414</td>\n",
       "      <td>442</td>\n",
       "      <td>589</td>\n",
       "      <td>526</td>\n",
       "      <td>2947</td>\n",
       "    </tr>\n",
       "  </tbody>\n",
       "</table>\n",
       "</div>"
      ],
      "text/plain": [
       "                        walking  climbing up the stairs  \\\n",
       "walking                     494                       2   \n",
       "climbing up the stairs       12                     459   \n",
       "going down the stairs         2                       3   \n",
       "sitting                       0                       4   \n",
       "standing                      0                       0   \n",
       "laying                        0                       0   \n",
       "all                         508                     468   \n",
       "\n",
       "                        going down the stairs  sitting  standing  laying   all  \n",
       "walking                                     0        0         0       0   496  \n",
       "climbing up the stairs                      0        0         0       0   471  \n",
       "going down the stairs                     414        1         0       0   420  \n",
       "sitting                                     0      426        61       0   491  \n",
       "standing                                    0       15       517       0   532  \n",
       "laying                                      0        0        11     526   537  \n",
       "all                                       414      442       589     526  2947  "
      ]
     },
     "execution_count": 61,
     "metadata": {},
     "output_type": "execute_result"
    }
   ],
   "source": [
    "tab = pd.crosstab(y_test, y_predicted, margins=True)\n",
    "tab.index = ['walking', 'climbing up the stairs',\n",
    "             'going down the stairs', 'sitting', 'standing', 'laying', 'all']\n",
    "tab.columns = ['walking', 'climbing up the stairs',\n",
    "             'going down the stairs', 'sitting', 'standing', 'laying', 'all']\n",
    "tab"
   ]
  },
  {
   "cell_type": "markdown",
   "id": "9861697e",
   "metadata": {},
   "source": [
    "**Question 8:** <br>\n",
    "Which activity type is worst detected by SVM in terms of precision? Recall?<br>\n",
    "\n",
    "**Answer options:**\n",
    "- precision – going up the stairs, recall – laying\n",
    "- precision – laying, recall – sitting\n",
    "- precision – walking, recall – walking \n",
    "- precision – standing, recall – sitting +\n",
    "\n",
    "Finally, do the same thing as in Question 7, but add PCA.\n",
    "\n",
    "- Use `X_train_scaled` and` X_test_scaled`\n",
    "- Train the same PCA as before, on the scaled training set, apply scaling to the test set\n",
    "- Choose the hyperparameter `C` via cross-validation on the training set with PCA-transformation. You will notice how much faster it works now.\n",
    "\n",
    "**Question 9:** <br>\n",
    "What is the difference between the best quality (accuracy) for cross-validation in the case of all 561 initial characteristics and in the second case, when the principal component method was applied? Round to the nearest percent. <br>\n",
    "\n",
    "**Answer options:**\n",
    "- quality is the same\n",
    "- 2%\n",
    "- 4%\n",
    "- 10%\n",
    "- 20%"
   ]
  },
  {
   "cell_type": "code",
   "execution_count": 62,
   "id": "73a9e025",
   "metadata": {},
   "outputs": [
    {
     "name": "stdout",
     "output_type": "stream",
     "text": [
      "Fitting 3 folds for each of 5 candidates, totalling 15 fits\n"
     ]
    },
    {
     "name": "stderr",
     "output_type": "stream",
     "text": [
      "/opt/anaconda3/lib/python3.9/site-packages/sklearn/svm/_base.py:985: ConvergenceWarning: Liblinear failed to converge, increase the number of iterations.\n",
      "  warnings.warn(\"Liblinear failed to converge, increase \"\n",
      "/opt/anaconda3/lib/python3.9/site-packages/sklearn/svm/_base.py:985: ConvergenceWarning: Liblinear failed to converge, increase the number of iterations.\n",
      "  warnings.warn(\"Liblinear failed to converge, increase \"\n",
      "/opt/anaconda3/lib/python3.9/site-packages/sklearn/svm/_base.py:985: ConvergenceWarning: Liblinear failed to converge, increase the number of iterations.\n",
      "  warnings.warn(\"Liblinear failed to converge, increase \"\n",
      "/opt/anaconda3/lib/python3.9/site-packages/sklearn/svm/_base.py:985: ConvergenceWarning: Liblinear failed to converge, increase the number of iterations.\n",
      "  warnings.warn(\"Liblinear failed to converge, increase \"\n",
      "/opt/anaconda3/lib/python3.9/site-packages/sklearn/svm/_base.py:985: ConvergenceWarning: Liblinear failed to converge, increase the number of iterations.\n",
      "  warnings.warn(\"Liblinear failed to converge, increase \"\n",
      "/opt/anaconda3/lib/python3.9/site-packages/sklearn/svm/_base.py:985: ConvergenceWarning: Liblinear failed to converge, increase the number of iterations.\n",
      "  warnings.warn(\"Liblinear failed to converge, increase \"\n",
      "/opt/anaconda3/lib/python3.9/site-packages/sklearn/svm/_base.py:985: ConvergenceWarning: Liblinear failed to converge, increase the number of iterations.\n",
      "  warnings.warn(\"Liblinear failed to converge, increase \"\n",
      "/opt/anaconda3/lib/python3.9/site-packages/sklearn/svm/_base.py:985: ConvergenceWarning: Liblinear failed to converge, increase the number of iterations.\n",
      "  warnings.warn(\"Liblinear failed to converge, increase \"\n",
      "/opt/anaconda3/lib/python3.9/site-packages/sklearn/svm/_base.py:985: ConvergenceWarning: Liblinear failed to converge, increase the number of iterations.\n",
      "  warnings.warn(\"Liblinear failed to converge, increase \"\n",
      "/opt/anaconda3/lib/python3.9/site-packages/sklearn/svm/_base.py:985: ConvergenceWarning: Liblinear failed to converge, increase the number of iterations.\n",
      "  warnings.warn(\"Liblinear failed to converge, increase \"\n"
     ]
    },
    {
     "name": "stdout",
     "output_type": "stream",
     "text": [
      "{'C': 1} 0.8998943094169531\n"
     ]
    },
    {
     "name": "stderr",
     "output_type": "stream",
     "text": [
      "/opt/anaconda3/lib/python3.9/site-packages/sklearn/svm/_base.py:985: ConvergenceWarning: Liblinear failed to converge, increase the number of iterations.\n",
      "  warnings.warn(\"Liblinear failed to converge, increase \"\n"
     ]
    }
   ],
   "source": [
    "scaler = StandardScaler()\n",
    "X_train_scaled = scaler.fit_transform(X_train)\n",
    "X_test_scaled = scaler.transform(X_test)\n",
    "\n",
    "pca = PCA(n_components=0.9, random_state=RANDOM_STATE)\n",
    "X_train_pca = pca.fit_transform(X_train_scaled)\n",
    "X_test_pca = pca.transform(X_test_scaled)\n",
    "\n",
    "svc = LinearSVC(random_state=RANDOM_STATE)\n",
    "svc_params = {\"C\": [0.001, 0.01, 0.1, 1, 10]}\n",
    "\n",
    "best_svc_pca = GridSearchCV(svc, svc_params, n_jobs=4, cv=3, verbose=1)\n",
    "best_svc_pca.fit(X_train_pca, y_train)\n",
    "\n",
    "print(best_svc_pca.best_params_, best_svc_pca.best_score_)"
   ]
  },
  {
   "cell_type": "markdown",
   "id": "121bbcbd",
   "metadata": {},
   "source": [
    "**Question 10:** <br>\n",
    "Select all the correct statements:\n",
    "\n",
    "**Answer options:**\n",
    "- Principal component analysis in this case allowed to reduce the model training time, while the quality (mean cross-validation accuracy) suffered greatly, by more than 10%\n",
    "- PCA can be used to visualize data, but there are better methods for this task, for example, tSNE. However, PCA has lower computational complexity +\n",
    "- PCA builds linear combinations of initial features, and in some applications they might be poorly interpreted by humans +"
   ]
  }
 ],
 "metadata": {
  "jupytext": {
   "formats": "md:myst",
   "text_representation": {
    "extension": ".md",
    "format_name": "myst"
   }
  },
  "kernelspec": {
   "display_name": "Python 3.9.7 ('base')",
   "language": "python",
   "name": "python3"
  },
  "language_info": {
   "codemirror_mode": {
    "name": "ipython",
    "version": 3
   },
   "file_extension": ".py",
   "mimetype": "text/x-python",
   "name": "python",
   "nbconvert_exporter": "python",
   "pygments_lexer": "ipython3",
   "version": "3.9.7"
  },
  "source_map": [
   11,
   34,
   63,
   83,
   94,
   103,
   107,
   112,
   114,
   119,
   124,
   126,
   139,
   141,
   146,
   150,
   156,
   158,
   176,
   178,
   183,
   186,
   210,
   212,
   217,
   220,
   225,
   231,
   255,
   260,
   276,
   279,
   284,
   286,
   308,
   316,
   322,
   329,
   331,
   344,
   349,
   356,
   384,
   386
  ],
  "vscode": {
   "interpreter": {
    "hash": "40d3a090f54c6569ab1632332b64b2c03c39dcf918b08424e98f38b5ae0af88f"
   }
  }
 },
 "nbformat": 4,
 "nbformat_minor": 5
}
