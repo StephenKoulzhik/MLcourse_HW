{
 "cells": [
  {
   "cell_type": "code",
   "execution_count": 131,
   "id": "dfa4d8bf",
   "metadata": {},
   "outputs": [],
   "source": [
    "import numpy as np\n",
    "import pandas as pd \n",
    "from sklearn.base import BaseEstimator\n",
    "import warnings\n",
    "warnings.filterwarnings('ignore')\n",
    "from matplotlib import pyplot as plt\n",
    "import seaborn as sns\n",
    "from sklearn.metrics import accuracy_score\n",
    "\n",
    "%matplotlib inline"
   ]
  },
  {
   "cell_type": "code",
   "execution_count": 164,
   "id": "25a742a9",
   "metadata": {},
   "outputs": [],
   "source": [
    "class SGD_log_reg(BaseEstimator):\n",
    "    \n",
    "    \n",
    "    def __init__(self, eta=1e-3, n_epochs=3):\n",
    "        self.eta = eta\n",
    "        self.n_epochs = n_epochs\n",
    "        self.weights_ = []\n",
    "        self.accuracy_ = []\n",
    "    \n",
    "    \n",
    "    def fit(self, X, y):\n",
    "        X = np.hstack([np.ones([X.shape[0], 1]), X])\n",
    "        w = np.zeros(X.shape[1])\n",
    "        \n",
    "        for i in range(self.n_epochs): \n",
    "            for j in range(X.shape[0]):\n",
    "                temp_exp = np.exp(-y[j] * w.dot(X[j]))\n",
    "                new_weights = w.copy()\n",
    "                new_weights[0] += -(self.eta * y[j] * temp_exp / (1 + temp_exp))\n",
    "                for k in range(1, len(w)):\n",
    "                    new_weights[k] += -(self.eta * y[j] * X[j][k] * temp_exp / (1 + temp_exp))\n",
    "                w = new_weights.copy()\n",
    "                self.weights_.append(w)\n",
    "                self.accuracy_.append(accuracy_score(y, custom_predict(X, w)))\n",
    "\n",
    "        \n",
    "        self.w_ = self.weights_[np.argmax(self.accuracy_)]\n",
    "        return self\n",
    "    \n",
    "    \n",
    "    def sigmoid(x):\n",
    "        return 1 / (1 + np.exp(-x))\n",
    "\n",
    "\n",
    "    def custom_predict(X, w):\n",
    "        res = []\n",
    "        for i in range(len(X)):\n",
    "            sig = sigmoid(w.dot(X[i]))\n",
    "            res.append(1 if sig >= 0 else -1)\n",
    "        return res\n",
    "\n",
    "    \n",
    "    def predict(self, X):\n",
    "        X = np.hstack([np.ones([X.shape[0], 1]), X])\n",
    "        return custom_predict(X, self.w_)\n",
    "                \n"
   ]
  },
  {
   "cell_type": "code",
   "execution_count": 42,
   "id": "46a45590",
   "metadata": {},
   "outputs": [],
   "source": [
    "# def fill_nan(table):\n",
    "#     for col in table.columns:\n",
    "#         table[col] = table[col].fillna(table[col].median())\n",
    "#     return table\n",
    "\n",
    "# DATA_PATH = \"https://raw.githubusercontent.com/Yorko/mlcourse.ai/master/data/\"\n",
    "# data = pd.read_csv(DATA_PATH + \"credit_scoring_sample.csv\", sep=\";\")\n",
    "# independent_columns_names = [x for x in data if x != \"SeriousDlqin2yrs\"]\n",
    "# table = fill_nan(data)\n",
    "# X = table[independent_columns_names]\n",
    "# y = table[\"SeriousDlqin2yrs\"]"
   ]
  },
  {
   "cell_type": "code",
   "execution_count": 67,
   "id": "68e856bd",
   "metadata": {},
   "outputs": [
    {
     "data": {
      "text/html": [
       "<div>\n",
       "<style scoped>\n",
       "    .dataframe tbody tr th:only-of-type {\n",
       "        vertical-align: middle;\n",
       "    }\n",
       "\n",
       "    .dataframe tbody tr th {\n",
       "        vertical-align: top;\n",
       "    }\n",
       "\n",
       "    .dataframe thead th {\n",
       "        text-align: right;\n",
       "    }\n",
       "</style>\n",
       "<table border=\"1\" class=\"dataframe\">\n",
       "  <thead>\n",
       "    <tr style=\"text-align: right;\">\n",
       "      <th></th>\n",
       "      <th>Gender</th>\n",
       "      <th>Age</th>\n",
       "      <th>AnnualSalary</th>\n",
       "      <th>Purchased</th>\n",
       "    </tr>\n",
       "  </thead>\n",
       "  <tbody>\n",
       "    <tr>\n",
       "      <th>0</th>\n",
       "      <td>1</td>\n",
       "      <td>35</td>\n",
       "      <td>20000</td>\n",
       "      <td>-1</td>\n",
       "    </tr>\n",
       "    <tr>\n",
       "      <th>1</th>\n",
       "      <td>1</td>\n",
       "      <td>40</td>\n",
       "      <td>43500</td>\n",
       "      <td>-1</td>\n",
       "    </tr>\n",
       "    <tr>\n",
       "      <th>2</th>\n",
       "      <td>1</td>\n",
       "      <td>49</td>\n",
       "      <td>74000</td>\n",
       "      <td>-1</td>\n",
       "    </tr>\n",
       "    <tr>\n",
       "      <th>3</th>\n",
       "      <td>1</td>\n",
       "      <td>40</td>\n",
       "      <td>107500</td>\n",
       "      <td>1</td>\n",
       "    </tr>\n",
       "    <tr>\n",
       "      <th>4</th>\n",
       "      <td>1</td>\n",
       "      <td>25</td>\n",
       "      <td>79000</td>\n",
       "      <td>-1</td>\n",
       "    </tr>\n",
       "  </tbody>\n",
       "</table>\n",
       "</div>"
      ],
      "text/plain": [
       "   Gender  Age  AnnualSalary  Purchased\n",
       "0       1   35         20000         -1\n",
       "1       1   40         43500         -1\n",
       "2       1   49         74000         -1\n",
       "3       1   40        107500          1\n",
       "4       1   25         79000         -1"
      ]
     },
     "execution_count": 67,
     "metadata": {},
     "output_type": "execute_result"
    }
   ],
   "source": [
    "data = pd.read_csv(\"car_data.csv\")\n",
    "data[\"Gender\"] = np.where(data[\"Gender\"] == \"female\", 0, 1)\n",
    "data = data.drop(\"User ID\", axis=1)\n",
    "y = data[\"Purchased\"]\n",
    "X = data.drop(\"Purchased\", axis=1)\n",
    "data.head()"
   ]
  },
  {
   "cell_type": "code",
   "execution_count": 4,
   "id": "b14f6443",
   "metadata": {},
   "outputs": [],
   "source": [
    "from sklearn.model_selection import train_test_split\n",
    "from sklearn.preprocessing import StandardScaler\n"
   ]
  },
  {
   "cell_type": "code",
   "execution_count": 142,
   "id": "7d355170",
   "metadata": {},
   "outputs": [],
   "source": [
    "scaler = StandardScaler()\n",
    "X_train, X_test, y_train, y_test = train_test_split(X, y, train_size=0.7, random_state=101)\n",
    "X_train_scaled = scaler.fit_transform(X_train)\n",
    "X_test_scaled = scaler.transform(X_test)\n",
    "y_train = list(y_train)\n",
    "y_test = list(y_test)"
   ]
  },
  {
   "cell_type": "code",
   "execution_count": 161,
   "id": "de530c3e",
   "metadata": {},
   "outputs": [
    {
     "data": {
      "text/plain": [
       "SGD_log_reg(eta=0.1, n_epochs=10)"
      ]
     },
     "execution_count": 161,
     "metadata": {},
     "output_type": "execute_result"
    }
   ],
   "source": [
    "my_sgd_logreg = SGD_log_reg(eta=0.1, n_epochs=10)\n",
    "my_sgd_logreg.fit(X_train_scaled, y_train)"
   ]
  },
  {
   "cell_type": "code",
   "execution_count": 162,
   "id": "ec17fa84",
   "metadata": {},
   "outputs": [],
   "source": [
    "preds = my_sgd_logreg.predict(X_test_scaled)"
   ]
  },
  {
   "cell_type": "code",
   "execution_count": 163,
   "id": "88973dde",
   "metadata": {},
   "outputs": [
    {
     "data": {
      "text/plain": [
       "0.62"
      ]
     },
     "execution_count": 163,
     "metadata": {},
     "output_type": "execute_result"
    }
   ],
   "source": [
    "accuracy_score(y_test, preds)"
   ]
  },
  {
   "cell_type": "code",
   "execution_count": 95,
   "id": "66e48246",
   "metadata": {},
   "outputs": [
    {
     "data": {
      "text/plain": [
       "0.8366666666666667"
      ]
     },
     "execution_count": 95,
     "metadata": {},
     "output_type": "execute_result"
    }
   ],
   "source": [
    "from sklearn.linear_model import LogisticRegression\n",
    "lr = LogisticRegression(C=0.1, random_state=5, class_weight=\"balanced\")\n",
    "lr.fit(X_train_scaled, y_train)\n",
    "preds_ne_eblana = lr.predict(X_test_scaled)\n",
    "accuracy_score(y_test, preds_ne_eblana)"
   ]
  }
 ],
 "metadata": {
  "kernelspec": {
   "display_name": "Python 3 (ipykernel)",
   "language": "python",
   "name": "python3"
  },
  "language_info": {
   "codemirror_mode": {
    "name": "ipython",
    "version": 3
   },
   "file_extension": ".py",
   "mimetype": "text/x-python",
   "name": "python",
   "nbconvert_exporter": "python",
   "pygments_lexer": "ipython3",
   "version": "3.9.7"
  },
  "vscode": {
   "interpreter": {
    "hash": "40d3a090f54c6569ab1632332b64b2c03c39dcf918b08424e98f38b5ae0af88f"
   }
  }
 },
 "nbformat": 4,
 "nbformat_minor": 5
}
